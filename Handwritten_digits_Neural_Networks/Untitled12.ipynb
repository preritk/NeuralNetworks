{
 "cells": [
  {
   "cell_type": "code",
   "execution_count": 68,
   "metadata": {},
   "outputs": [],
   "source": [
    "import numpy as np\n",
    "import pandas as pd\n",
    "import operator\n",
    "import matplotlib.pyplot as plt\n",
    "INPUT_LAYER = 784\n",
    "HIDDEN_LAYER_1 = 128\n",
    "HIDDEN_LAYER_2 = 64\n",
    "OUTPUT_LAYER = 10\n",
    "LEARNING_RATE = 0.45\n",
    "epoch = 7\n",
    "lamda = 0.1"
   ]
  },
  {
   "cell_type": "code",
   "execution_count": 69,
   "metadata": {},
   "outputs": [],
   "source": [
    "def Randomise():\n",
    "    e = 0.12\n",
    "    Theta_1 = np.random.rand(HIDDEN_LAYER_1,INPUT_LAYER+1)*(2*e) - (e)    #128x785\n",
    "    Theta_2 = np.random.rand(HIDDEN_LAYER_2,HIDDEN_LAYER_1+1)*(2*e) - (e)   #64x129\n",
    "    Theta_3 = np.random.rand(OUTPUT_LAYER,HIDDEN_LAYER_2+1)*(2*e) - (e)     #10x65\n",
    "    return Theta_1,Theta_2,Theta_3"
   ]
  },
  {
   "cell_type": "code",
   "execution_count": 70,
   "metadata": {},
   "outputs": [],
   "source": [
    "def hotVector(Y):\n",
    "    Yk = []\n",
    "    for i in range(len(Y)):\n",
    "        a = Y[i][0]\n",
    "        t = np.zeros((10,1))\n",
    "        t[a] = 1\n",
    "        Yk.append(t)\n",
    "    return Yk"
   ]
  },
  {
   "cell_type": "code",
   "execution_count": 71,
   "metadata": {},
   "outputs": [],
   "source": [
    "def sigmoid(z):\n",
    "    return (1.0/(1.0 + np.exp(-1.0 * z)))"
   ]
  },
  {
   "cell_type": "code",
   "execution_count": 72,
   "metadata": {},
   "outputs": [],
   "source": [
    "def sigmoidGradient(z):\n",
    "    p = sigmoid(z)\n",
    "    q = np.ones(np.shape(z)) - p\n",
    "    t = []\n",
    "    for i in range(len(p)):\n",
    "        t.append(p[i]*q[i])\n",
    "    t = np.reshape(t,(len(z),1))\n",
    "    return t"
   ]
  },
  {
   "cell_type": "code",
   "execution_count": 73,
   "metadata": {},
   "outputs": [],
   "source": [
    "def Forward(a1,Theta_1,Theta_2,Theta_3):\n",
    "    a1 = np.insert(a1,0,1)\n",
    "    a1 = np.reshape(a1,(785,1))\n",
    "    #######################################\n",
    "    z2 = np.matmul(Theta_1,a1)   #128x1\n",
    "    a2 = sigmoid(z2)\n",
    "    a2 = np.insert(a2,0,1)       #129x1\n",
    "    a2 = np.reshape(a2,(129,1))\n",
    "    #######################################\n",
    "    z3 = np.matmul(Theta_2,a2)   #64x1\n",
    "    a3 = sigmoid(z3)\n",
    "    a3 = np.insert(a3,0,1)       #65x1\n",
    "    a3 = np.reshape(a3,(65,1))\n",
    "    #######################################\n",
    "    z4 = np.matmul(Theta_3,a3)  #10x1\n",
    "    a4 = sigmoid(z4)            #10x1\n",
    "    a4 = np.reshape(a4,(10,1))\n",
    "    #######################################\n",
    "    return a1,z2,a2,z3,a3,z4,a4"
   ]
  },
  {
   "cell_type": "code",
   "execution_count": 74,
   "metadata": {},
   "outputs": [],
   "source": [
    "def calc_delta_3(Theta_3,delta_4,z3):\n",
    "    #print(np.shape(Theta_3),np.shape(delta_4))\n",
    "    t = np.matmul(np.transpose(Theta_3),delta_4)    #65x1\n",
    "    z3 = np.insert(z3,0,1)\n",
    "    f = sigmoidGradient(z3)\n",
    "    delta_3 = []\n",
    "    #print(np.shape(t))\n",
    "    for i in range(65):\n",
    "        a = f[i] * z3[i]\n",
    "        delta_3.append(a)\n",
    "    delta_3 = np.reshape(delta_3,(65,1))\n",
    "    delta_3 = np.delete(delta_3,0,axis = 0)    #64x1\n",
    "    return delta_3\n",
    "        "
   ]
  },
  {
   "cell_type": "code",
   "execution_count": 75,
   "metadata": {},
   "outputs": [],
   "source": [
    "def calc_delta_2(Theta_2,delta_3,z2):\n",
    "    t = np.matmul(np.transpose(Theta_2),delta_3)     #129x1\n",
    "    z2 = np.insert(z2,0,1)\n",
    "    f = sigmoidGradient(z2)\n",
    "    delta_2 = []\n",
    "    for i in range(129):\n",
    "        a = f[i] * z2[i]\n",
    "        delta_2.append(a)\n",
    "    delta_2 = np.reshape(delta_2,(129,1))\n",
    "    delta_2 = np.delete(delta_2,0,axis = 0)   #128x1\n",
    "    return delta_2"
   ]
  },
  {
   "cell_type": "code",
   "execution_count": 76,
   "metadata": {},
   "outputs": [],
   "source": [
    "def cost_NN(Yk,H,Theta_1,Theta_2,Theta_3):\n",
    "    J = 0.0\n",
    "    for i in range(100):\n",
    "        J += np.matmul(np.transpose(Yk[i]),np.log(H[i])) + np.matmul(np.transpose(np.ones((10,1))-Yk[i]),np.log(np.ones((10,1)) - H[i]))\n",
    "        J = (-1.0/100)*J \n",
    "    return J[0][0] "
   ]
  },
  {
   "cell_type": "code",
   "execution_count": 77,
   "metadata": {},
   "outputs": [],
   "source": [
    "def Train_NN(X,Y,Theta_1,Theta_2,Theta_3):\n",
    "    Theta1_grad = np.zeros(np.shape(Theta_1))\n",
    "    Theta2_grad = np.zeros(np.shape(Theta_2))\n",
    "    Theta3_grad = np.zeros(np.shape(Theta_3))\n",
    "    Yk = hotVector(Y)\n",
    "    x1,cost1 = [],[]\n",
    "    for i in range(epoch):\n",
    "        H = []\n",
    "        for j in range(len(X)):\n",
    "            a1,z2,a2,z3,a3,z4,a4 = Forward(X[j],Theta_1,Theta_2,Theta_3)  #Forward\n",
    "            H.append(a4)\n",
    "            delta_4 = a4 - Yk[j]\n",
    "            delta_3 = calc_delta_3(Theta_3,delta_4,z3)\n",
    "            delta_2 = calc_delta_2(Theta_2,delta_3,z2)\n",
    "            #################################################################\n",
    "            Theta3_grad = Theta3_grad - np.divide(np.matmul(delta_4,np.transpose(a3)),len(X))\n",
    "            Theta2_grad = Theta2_grad - np.divide(np.matmul(delta_3,np.transpose(a2)),len(X))\n",
    "            Theta1_grad = Theta1_grad - np.divide(np.matmul(delta_2,np.transpose(a1)),len(X))\n",
    "            #################################################################\n",
    "        Theta_1 = Theta_1 + (LEARNING_RATE*(Theta1_grad))\n",
    "        Theta_2 = Theta_2 + (LEARNING_RATE*(Theta2_grad))\n",
    "        Theta_3 = Theta_3 + (LEARNING_RATE*(Theta3_grad))\n",
    "        cost = cost_NN(Yk,H,Theta_1,Theta_2,Theta_3)\n",
    "        \n",
    "        x1.append(i)\n",
    "        cost1.append(cost)\n",
    "        plt.plot(x1,cost1,'-')\n",
    "        plt.xlabel('No of iterations')\n",
    "        plt.ylabel('cost')\n",
    "    plt.show()\n",
    "    return Theta_1,Theta_2,Theta_3\n",
    "            "
   ]
  },
  {
   "cell_type": "code",
   "execution_count": 78,
   "metadata": {},
   "outputs": [
    {
     "name": "stderr",
     "output_type": "stream",
     "text": [
      "/home/prerit/anaconda3/envs/tensorflow/lib/python3.6/site-packages/ipykernel_launcher.py:2: RuntimeWarning: overflow encountered in exp\n",
      "  \n"
     ]
    },
    {
     "data": {
      "image/png": "[encoded data removed]",
      "text/plain": [
       "<matplotlib.figure.Figure at 0x7fd51ed2cb38>"
      ]
     },
     "metadata": {},
     "output_type": "display_data"
    },
    {
     "name": "stdout",
     "output_type": "stream",
     "text": [
      "Completed\n",
      "0.14\n"
     ]
    }
   ],
   "source": [
    "X = pd.read_csv('./mnist_train_100.csv',header = None,usecols = range(1,785)).values\n",
    "Y = pd.read_csv('./mnist_train_100.csv',header = None,usecols = [0]).values\n",
    "Theta_1,Theta_2,Theta_3 = Randomise() \n",
    "Theta_1,Theta_2,Theta_3 = Train_NN(X,Y,Theta_1,Theta_2,Theta_3)\n",
    "print(\"Completed\")\n",
    "count = 0.0\n",
    "for i in range(len(X)):\n",
    "    a1,z2,a2,z3,a3,z4,a4 = Forward(X[i],Theta_1,Theta_2,Theta_3) \n",
    "    t = np.max(a4)\n",
    "    for j in range(10):\n",
    "        if(t == a4[j]):\n",
    "            if(j == Y[i]):\n",
    "                count += 1\n",
    "            else:\n",
    "                count += 0\n",
    "print(count)\n",
    "\n"
   ]
  },
  {
   "cell_type": "code",
   "execution_count": null,
   "metadata": {},
   "outputs": [],
   "source": []
  }
 ],
 "metadata": {
  "kernelspec": {
   "display_name": "Python 3",
   "language": "python",
   "name": "python3"
  },
  "language_info": {
   "codemirror_mode": {
    "name": "ipython",
    "version": 3
   },
   "file_extension": ".py",
   "mimetype": "text/x-python",
   "name": "python",
   "nbconvert_exporter": "python",
   "pygments_lexer": "ipython3",
   "version": "3.6.3"
  }
 },
 "nbformat": 4,
 "nbformat_minor": 2
}
